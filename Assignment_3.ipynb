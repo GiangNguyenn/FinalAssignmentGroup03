{
 "cells": [
  {
   "cell_type": "markdown",
   "metadata": {
    "id": "fcTDLvrQfuLN"
   },
   "source": [
    "# 1. Import data \n",
    "## 1.1. Import libraries"
   ]
  },
  {
   "cell_type": "code",
   "execution_count": null,
   "metadata": {},
   "outputs": [],
   "source": [
    "!unzip downscaled_images_raw.zip\n",
    "!unzip downscaled_images_structure.zip\n",
    "import pandas as pd\n",
    "import numpy as np\n",
    "import tensorflow as tf\n",
    "from tensorflow import keras\n",
    "from keras.layers import Embedding\n",
    "from keras.models import Sequential\n",
    "from keras.preprocessing.text import Tokenizer\n",
    "from keras.preprocessing.image import ImageDataGenerator\n",
    "from keras import applications\n",
    "\n",
    "\n"
   ]
  },
  {
   "cell_type": "markdown",
   "metadata": {
    "id": "M16JAndSfzW0"
   },
   "source": [
    "## 1.2. Import CSV file\n"
   ]
  },
  {
   "cell_type": "code",
   "execution_count": 52,
   "metadata": {
    "id": "85zMEvh7HEn6"
   },
   "outputs": [],
   "source": [
    "# Load the dataset into a Pandas dataframe\n",
    "df = pd.read_csv('dataset.csv')\n",
    "\n",
    "# Make 2 copy of current dataframe for each approach\n",
    "df_cb = df.copy()\n",
    "df_dl = df.copy()\n",
    "\n",
    "mini_df = df[(df['article_id'] > 290000000) & (df['article_id'] < 520000000)]"
   ]
  },
  {
   "attachments": {},
   "cell_type": "markdown",
   "metadata": {},
   "source": [
    "# 1.3. General Data description"
   ]
  },
  {
   "cell_type": "code",
   "execution_count": 53,
   "metadata": {
    "colab": {
     "base_uri": "https://localhost:8080/"
    },
    "executionInfo": {
     "elapsed": 388,
     "status": "ok",
     "timestamp": 1672762737958,
     "user": {
      "displayName": "Luan Vo thanh",
      "userId": "04243662658733649105"
     },
     "user_tz": -420
    },
    "id": "ytnxca5XbE8N",
    "outputId": "58c0e936-aed3-44ce-f3e7-bf7778e8e734"
   },
   "outputs": [
    {
     "data": {
      "text/plain": [
       "article_id                        0\n",
       "product_code                      0\n",
       "prod_name                         0\n",
       "product_type_no                   0\n",
       "product_type_name                 0\n",
       "product_group_name                0\n",
       "graphical_appearance_no           0\n",
       "graphical_appearance_name         0\n",
       "colour_group_code                 0\n",
       "colour_group_name                 0\n",
       "perceived_colour_value_id         0\n",
       "perceived_colour_value_name       0\n",
       "perceived_colour_master_id        0\n",
       "perceived_colour_master_name      0\n",
       "department_no                     0\n",
       "department_name                   0\n",
       "index_code                        0\n",
       "index_name                        0\n",
       "index_group_no                    0\n",
       "index_group_name                  0\n",
       "section_no                        0\n",
       "section_name                      0\n",
       "garment_group_no                  0\n",
       "garment_group_name                0\n",
       "detail_desc                     416\n",
       "dtype: int64"
      ]
     },
     "execution_count": 53,
     "metadata": {},
     "output_type": "execute_result"
    }
   ],
   "source": [
    "# Check for null values\n",
    "df.isnull().sum()"
   ]
  },
  {
   "cell_type": "code",
   "execution_count": 54,
   "metadata": {
    "colab": {
     "base_uri": "https://localhost:8080/"
    },
    "executionInfo": {
     "elapsed": 326,
     "status": "ok",
     "timestamp": 1672762748939,
     "user": {
      "displayName": "Luan Vo thanh",
      "userId": "04243662658733649105"
     },
     "user_tz": -420
    },
    "id": "QQ7a1vG3bHH2",
    "outputId": "5a893b3d-305e-43e7-df63-39e7634372c0"
   },
   "outputs": [
    {
     "data": {
      "text/plain": [
       "article_id                       int64\n",
       "product_code                     int64\n",
       "prod_name                       object\n",
       "product_type_no                  int64\n",
       "product_type_name               object\n",
       "product_group_name              object\n",
       "graphical_appearance_no          int64\n",
       "graphical_appearance_name       object\n",
       "colour_group_code                int64\n",
       "colour_group_name               object\n",
       "perceived_colour_value_id        int64\n",
       "perceived_colour_value_name     object\n",
       "perceived_colour_master_id       int64\n",
       "perceived_colour_master_name    object\n",
       "department_no                    int64\n",
       "department_name                 object\n",
       "index_code                      object\n",
       "index_name                      object\n",
       "index_group_no                   int64\n",
       "index_group_name                object\n",
       "section_no                       int64\n",
       "section_name                    object\n",
       "garment_group_no                 int64\n",
       "garment_group_name              object\n",
       "detail_desc                     object\n",
       "dtype: object"
      ]
     },
     "execution_count": 54,
     "metadata": {},
     "output_type": "execute_result"
    }
   ],
   "source": [
    "# Check for dataframe columns type\n",
    "mini_df.dtypes"
   ]
  },
  {
   "cell_type": "code",
   "execution_count": 55,
   "metadata": {},
   "outputs": [
    {
     "name": "stderr",
     "output_type": "stream",
     "text": [
      "/var/folders/8h/8019_k7n2hbf347dp2qkqff40000gn/T/ipykernel_20075/875143675.py:1: SettingWithCopyWarning: \n",
      "A value is trying to be set on a copy of a slice from a DataFrame\n",
      "\n",
      "See the caveats in the documentation: https://pandas.pydata.org/pandas-docs/stable/user_guide/indexing.html#returning-a-view-versus-a-copy\n",
      "  mini_df[\"index_group_name\"].replace({\"Baby/Children\": \"Children\"}, inplace=True)\n"
     ]
    },
    {
     "data": {
      "text/plain": [
       "index_group_name\n",
       "Children      2281\n",
       "Ladieswear    2128\n",
       "Menswear      1379\n",
       "Divided       1217\n",
       "Sport          400\n",
       "dtype: int64"
      ]
     },
     "execution_count": 55,
     "metadata": {},
     "output_type": "execute_result"
    }
   ],
   "source": [
    "mini_df[\"index_group_name\"].replace({\"Baby/Children\": \"Children\"}, inplace=True)\n",
    "mini_df.value_counts(\"index_group_name\")"
   ]
  },
  {
   "cell_type": "code",
   "execution_count": 56,
   "metadata": {},
   "outputs": [
    {
     "data": {
      "text/html": [
       "<div>\n",
       "<style scoped>\n",
       "    .dataframe tbody tr th:only-of-type {\n",
       "        vertical-align: middle;\n",
       "    }\n",
       "\n",
       "    .dataframe tbody tr th {\n",
       "        vertical-align: top;\n",
       "    }\n",
       "\n",
       "    .dataframe thead th {\n",
       "        text-align: right;\n",
       "    }\n",
       "</style>\n",
       "<table border=\"1\" class=\"dataframe\">\n",
       "  <thead>\n",
       "    <tr style=\"text-align: right;\">\n",
       "      <th></th>\n",
       "      <th>article_id</th>\n",
       "      <th>product_code</th>\n",
       "      <th>product_type_no</th>\n",
       "      <th>graphical_appearance_no</th>\n",
       "      <th>colour_group_code</th>\n",
       "      <th>perceived_colour_value_id</th>\n",
       "      <th>perceived_colour_master_id</th>\n",
       "      <th>department_no</th>\n",
       "      <th>index_group_no</th>\n",
       "      <th>section_no</th>\n",
       "      <th>garment_group_no</th>\n",
       "    </tr>\n",
       "  </thead>\n",
       "  <tbody>\n",
       "    <tr>\n",
       "      <th>count</th>\n",
       "      <td>1.055420e+05</td>\n",
       "      <td>105542.000000</td>\n",
       "      <td>105542.000000</td>\n",
       "      <td>1.055420e+05</td>\n",
       "      <td>105542.000000</td>\n",
       "      <td>105542.000000</td>\n",
       "      <td>105542.000000</td>\n",
       "      <td>105542.000000</td>\n",
       "      <td>105542.000000</td>\n",
       "      <td>105542.000000</td>\n",
       "      <td>105542.000000</td>\n",
       "    </tr>\n",
       "    <tr>\n",
       "      <th>mean</th>\n",
       "      <td>6.984246e+08</td>\n",
       "      <td>698424.563378</td>\n",
       "      <td>234.861875</td>\n",
       "      <td>1.009515e+06</td>\n",
       "      <td>32.233822</td>\n",
       "      <td>3.206183</td>\n",
       "      <td>7.807972</td>\n",
       "      <td>4532.777833</td>\n",
       "      <td>3.171534</td>\n",
       "      <td>42.664219</td>\n",
       "      <td>1010.438290</td>\n",
       "    </tr>\n",
       "    <tr>\n",
       "      <th>std</th>\n",
       "      <td>1.284624e+08</td>\n",
       "      <td>128462.384432</td>\n",
       "      <td>75.049308</td>\n",
       "      <td>2.241359e+04</td>\n",
       "      <td>28.086154</td>\n",
       "      <td>1.563839</td>\n",
       "      <td>5.376727</td>\n",
       "      <td>2712.692011</td>\n",
       "      <td>4.353234</td>\n",
       "      <td>23.260105</td>\n",
       "      <td>6.731023</td>\n",
       "    </tr>\n",
       "    <tr>\n",
       "      <th>min</th>\n",
       "      <td>1.087750e+08</td>\n",
       "      <td>108775.000000</td>\n",
       "      <td>-1.000000</td>\n",
       "      <td>-1.000000e+00</td>\n",
       "      <td>-1.000000</td>\n",
       "      <td>-1.000000</td>\n",
       "      <td>-1.000000</td>\n",
       "      <td>1201.000000</td>\n",
       "      <td>1.000000</td>\n",
       "      <td>2.000000</td>\n",
       "      <td>1001.000000</td>\n",
       "    </tr>\n",
       "    <tr>\n",
       "      <th>25%</th>\n",
       "      <td>6.169925e+08</td>\n",
       "      <td>616992.500000</td>\n",
       "      <td>252.000000</td>\n",
       "      <td>1.010008e+06</td>\n",
       "      <td>9.000000</td>\n",
       "      <td>2.000000</td>\n",
       "      <td>4.000000</td>\n",
       "      <td>1676.000000</td>\n",
       "      <td>1.000000</td>\n",
       "      <td>20.000000</td>\n",
       "      <td>1005.000000</td>\n",
       "    </tr>\n",
       "    <tr>\n",
       "      <th>50%</th>\n",
       "      <td>7.022130e+08</td>\n",
       "      <td>702213.000000</td>\n",
       "      <td>259.000000</td>\n",
       "      <td>1.010016e+06</td>\n",
       "      <td>14.000000</td>\n",
       "      <td>4.000000</td>\n",
       "      <td>5.000000</td>\n",
       "      <td>4222.000000</td>\n",
       "      <td>2.000000</td>\n",
       "      <td>46.000000</td>\n",
       "      <td>1009.000000</td>\n",
       "    </tr>\n",
       "    <tr>\n",
       "      <th>75%</th>\n",
       "      <td>7.967030e+08</td>\n",
       "      <td>796703.000000</td>\n",
       "      <td>272.000000</td>\n",
       "      <td>1.010016e+06</td>\n",
       "      <td>52.000000</td>\n",
       "      <td>4.000000</td>\n",
       "      <td>11.000000</td>\n",
       "      <td>7389.000000</td>\n",
       "      <td>4.000000</td>\n",
       "      <td>61.000000</td>\n",
       "      <td>1017.000000</td>\n",
       "    </tr>\n",
       "    <tr>\n",
       "      <th>max</th>\n",
       "      <td>9.594610e+08</td>\n",
       "      <td>959461.000000</td>\n",
       "      <td>762.000000</td>\n",
       "      <td>1.010029e+06</td>\n",
       "      <td>93.000000</td>\n",
       "      <td>7.000000</td>\n",
       "      <td>20.000000</td>\n",
       "      <td>9989.000000</td>\n",
       "      <td>26.000000</td>\n",
       "      <td>97.000000</td>\n",
       "      <td>1025.000000</td>\n",
       "    </tr>\n",
       "  </tbody>\n",
       "</table>\n",
       "</div>"
      ],
      "text/plain": [
       "         article_id   product_code  product_type_no  graphical_appearance_no  \\\n",
       "count  1.055420e+05  105542.000000    105542.000000             1.055420e+05   \n",
       "mean   6.984246e+08  698424.563378       234.861875             1.009515e+06   \n",
       "std    1.284624e+08  128462.384432        75.049308             2.241359e+04   \n",
       "min    1.087750e+08  108775.000000        -1.000000            -1.000000e+00   \n",
       "25%    6.169925e+08  616992.500000       252.000000             1.010008e+06   \n",
       "50%    7.022130e+08  702213.000000       259.000000             1.010016e+06   \n",
       "75%    7.967030e+08  796703.000000       272.000000             1.010016e+06   \n",
       "max    9.594610e+08  959461.000000       762.000000             1.010029e+06   \n",
       "\n",
       "       colour_group_code  perceived_colour_value_id  \\\n",
       "count      105542.000000              105542.000000   \n",
       "mean           32.233822                   3.206183   \n",
       "std            28.086154                   1.563839   \n",
       "min            -1.000000                  -1.000000   \n",
       "25%             9.000000                   2.000000   \n",
       "50%            14.000000                   4.000000   \n",
       "75%            52.000000                   4.000000   \n",
       "max            93.000000                   7.000000   \n",
       "\n",
       "       perceived_colour_master_id  department_no  index_group_no  \\\n",
       "count               105542.000000  105542.000000   105542.000000   \n",
       "mean                     7.807972    4532.777833        3.171534   \n",
       "std                      5.376727    2712.692011        4.353234   \n",
       "min                     -1.000000    1201.000000        1.000000   \n",
       "25%                      4.000000    1676.000000        1.000000   \n",
       "50%                      5.000000    4222.000000        2.000000   \n",
       "75%                     11.000000    7389.000000        4.000000   \n",
       "max                     20.000000    9989.000000       26.000000   \n",
       "\n",
       "          section_no  garment_group_no  \n",
       "count  105542.000000     105542.000000  \n",
       "mean       42.664219       1010.438290  \n",
       "std        23.260105          6.731023  \n",
       "min         2.000000       1001.000000  \n",
       "25%        20.000000       1005.000000  \n",
       "50%        46.000000       1009.000000  \n",
       "75%        61.000000       1017.000000  \n",
       "max        97.000000       1025.000000  "
      ]
     },
     "execution_count": 56,
     "metadata": {},
     "output_type": "execute_result"
    }
   ],
   "source": [
    "df_cb.describe()"
   ]
  },
  {
   "attachments": {},
   "cell_type": "markdown",
   "metadata": {},
   "source": [
    "This table contains all h&m articles with details such as a type of product, a color, a product group and other features.\n",
    "Article data description:\n",
    "\n",
    "- __article_id__ : A unique identifier of every article.\n",
    "- __product_code__, __prod_name__ : A unique identifier of every product and its name (not the same).\n",
    "- __product_type__, __product_type_name__ : The group of product_code and its name\n",
    "- __graphical_appearance_no__, __graphical_appearance_name__ : The group of graphics and its name\n",
    "- __colour_group_code__, __colour_group_name__ : The group of color and its name\n",
    "- __perceived_colour_value_id__, __perceived_colour_value_name__, __perceived_colour_master_id__, __perceived_colour_master_name__ : The added color info\n",
    "- __department_no__, __department_name__: : A unique identifier of every dep and its name\n",
    "- __index_code__, __index_name__: : A unique identifier of every index and its name\n",
    "- __index_group_no__, __index_group_name__: : A group of indeces and its name\n",
    "- __section_no__, __section_name__: : A unique identifier of every section and its name\n",
    "- __garment_group_no__, __garment_group_name__: : A unique identifier of every garment and its name\n",
    "- __detail_desc__: : Details"
   ]
  },
  {
   "attachments": {},
   "cell_type": "markdown",
   "metadata": {},
   "source": [
    "# 2. Data Cleaning"
   ]
  },
  {
   "attachments": {},
   "cell_type": "markdown",
   "metadata": {},
   "source": [
    "## Resize and structure images into correct folder"
   ]
  },
  {
   "cell_type": "code",
   "execution_count": 61,
   "metadata": {},
   "outputs": [],
   "source": [
    "# image downscale\n",
    "import os\n",
    "import cv2\n",
    "\n",
    "# Set the input directory\n",
    "input_dir = 'downscaled_images_raw/'\n",
    "\n",
    "# Set the output directory\n",
    "output_dir = 'downscaled_images_structure/'\n",
    "\n",
    "# Get a list of the images in the input directory\n",
    "image_folders = os.listdir(input_dir)\n",
    "print\n",
    "\n",
    "# Iterate over the images\n",
    "for folder in image_folders:\n",
    "    # Load the image\n",
    "    image_filenames = os.listdir(input_dir+folder)\n",
    "    for filename in image_filenames:\n",
    "        image = cv2.imread(input_dir + folder + \"/\" + filename)\n",
    "        \n",
    "        folder_name = mini_df[df['article_id'] == int(\n",
    "            filename[0:10])][\"index_group_name\"].values[0]\n",
    "        # Downscale the image using linear interpolation\n",
    "        downscaled_image = cv2.resize(\n",
    "            image, (125, 125), interpolation=cv2.INTER_LINEAR)\n",
    "\n",
    "        # Save the downscaled image to a file\n",
    "        cv2.imwrite(output_dir+folder+\"/\" + filename, downscaled_image)\n",
    "    \n"
   ]
  },
  {
   "attachments": {},
   "cell_type": "markdown",
   "metadata": {},
   "source": [
    "# 3. Recommender systems"
   ]
  },
  {
   "attachments": {},
   "cell_type": "markdown",
   "metadata": {
    "id": "rd9H3HamGmvp"
   },
   "source": [
    "## Approach 1: Content-based"
   ]
  },
  {
   "attachments": {},
   "cell_type": "markdown",
   "metadata": {},
   "source": [
    "### Feature Engineeering"
   ]
  },
  {
   "cell_type": "code",
   "execution_count": 58,
   "metadata": {
    "id": "rvZaP_v8ahFX"
   },
   "outputs": [],
   "source": [
    "# Define the ResNet50 model\n",
    "\n",
    "\n",
    "import datetime\n",
    "\n",
    "\n",
    "img_width, img_height = 25, 25\n",
    "\n",
    "# top_model_weights_path = 'resnet50_weights_tf_dim_ordering_tf_kernels_notop.h5'\n",
    "train_data_dir = \"downscaled_images/\"\n",
    "\n",
    "nb_train_samples = 1253\n",
    "epochs = 50\n",
    "batch_size = 1\n",
    "\n",
    "\n",
    "def extract_features():\n",
    "    Itemcodes = []\n",
    "    model = applications.ResNet50(\n",
    "        include_top=False, weights='imagenet')\n",
    "    datagen = ImageDataGenerator(rescale=1. / 255)\n",
    "    generator = datagen.flow_from_directory(\n",
    "        train_data_dir,\n",
    "        target_size=(img_width, img_height),\n",
    "        batch_size=batch_size,\n",
    "        class_mode=None,\n",
    "        shuffle=False)\n",
    "    for i in generator.filenames:\n",
    "        Itemcodes.append(i[(i.find(\"/\")+1):i.find(\".\")])\n",
    "    extracted_features = model.predict(\n",
    "        generator, nb_train_samples // batch_size)\n",
    "\n",
    "    np.save(open('./ResNet_features.npy', 'wb'), extracted_features)\n",
    "    np.save(open('./ResNet_feature_product_ids.npy', 'wb'),\n",
    "            np.array(Itemcodes))\n",
    "\n",
    "\n",
    "a = datetime.now()\n",
    "# extract_features()\n"
   ]
  },
  {
   "cell_type": "markdown",
   "metadata": {
    "id": "tYzPhev7GvPv"
   },
   "source": [
    "**Approach 2: Deep Learning**"
   ]
  },
  {
   "cell_type": "markdown",
   "metadata": {},
   "source": [
    "### Encoding categorical value"
   ]
  },
  {
   "cell_type": "markdown",
   "metadata": {},
   "source": [
    "### Embedding"
   ]
  },
  {
   "cell_type": "code",
   "execution_count": 59,
   "metadata": {
    "id": "nocKOcHAHT-W"
   },
   "outputs": [
    {
     "ename": "NameError",
     "evalue": "name 'vocab_size' is not defined",
     "output_type": "error",
     "traceback": [
      "\u001b[0;31m---------------------------------------------------------------------------\u001b[0m",
      "\u001b[0;31mNameError\u001b[0m                                 Traceback (most recent call last)",
      "Cell \u001b[0;32mIn [59], line 3\u001b[0m\n\u001b[1;32m      1\u001b[0m article_ids \u001b[39m=\u001b[39m df[\u001b[39m\"\u001b[39m\u001b[39marticle_id\u001b[39m\u001b[39m\"\u001b[39m]\u001b[39m.\u001b[39mtolist()\n\u001b[0;32m----> 3\u001b[0m tokenizer \u001b[39m=\u001b[39m Tokenizer(num_words\u001b[39m=\u001b[39mvocab_size)\n\u001b[1;32m      4\u001b[0m sequences \u001b[39m=\u001b[39m tokenizer\u001b[39m.\u001b[39mtexts_to_sequences(prod_names)\n\u001b[1;32m      6\u001b[0m \u001b[39m# Create an embedding matrix with random weights\u001b[39;00m\n",
      "\u001b[0;31mNameError\u001b[0m: name 'vocab_size' is not defined"
     ]
    }
   ],
   "source": [
    "article_ids = df[\"article_id\"].tolist()\n",
    "\n",
    "tokenizer = Tokenizer(num_words=vocab_size)\n",
    "sequences = tokenizer.texts_to_sequences(prod_names)\n",
    "\n",
    "# Create an embedding matrix with random weights\n",
    "embedding_matrix = np.random.rand(vocab_size, embedding_dim)\n",
    "\n",
    "# Define the model\n",
    "model = Sequential()\n",
    "\n",
    "# Add an embedding layer with the specified weights\n",
    "prod_name_embedding = Embedding(vocab_size, embedding_dim, weights=[embedding_matrix])(sequences)"
   ]
  }
 ],
 "metadata": {
  "colab": {
   "provenance": []
  },
  "gpuClass": "standard",
  "kernelspec": {
   "display_name": "Python 3",
   "language": "python",
   "name": "python3"
  },
  "language_info": {
   "codemirror_mode": {
    "name": "ipython",
    "version": 3
   },
   "file_extension": ".py",
   "mimetype": "text/x-python",
   "name": "python",
   "nbconvert_exporter": "python",
   "pygments_lexer": "ipython3",
   "version": "3.10.1 (v3.10.1:2cd268a3a9, Dec  6 2021, 14:28:59) [Clang 13.0.0 (clang-1300.0.29.3)]"
  },
  "vscode": {
   "interpreter": {
    "hash": "aee8b7b246df8f9039afb4144a1f6fd8d2ca17a180786b69acc140d282b71a49"
   }
  }
 },
 "nbformat": 4,
 "nbformat_minor": 1
}
