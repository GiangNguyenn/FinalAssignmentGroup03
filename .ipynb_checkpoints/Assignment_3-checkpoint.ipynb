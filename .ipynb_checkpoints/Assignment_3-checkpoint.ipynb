{
 "cells": [
  {
   "cell_type": "markdown",
   "metadata": {
    "id": "fcTDLvrQfuLN"
   },
   "source": [
    "# 1. Import data \n",
    "## 1.1. Import libraries"
   ]
  },
  {
   "cell_type": "code",
   "execution_count": 17,
   "metadata": {
    "id": "KssFxFxTDDX8"
   },
   "outputs": [],
   "source": [
    "import pandas as pd\n",
    "import tensorflow as tf\n",
    "from tensorflow import keras\n",
    "from tensorflow.keras.layers import Embedding\n",
    "from tensorflow.keras.models import Sequential"
   ]
  },
  {
   "cell_type": "markdown",
   "metadata": {
    "id": "M16JAndSfzW0"
   },
   "source": [
    "## 1.2. Import CSV file\n"
   ]
  },
  {
   "cell_type": "markdown",
   "metadata": {
    "id": "PTLs0_H-f0V4"
   },
   "source": []
  },
  {
   "cell_type": "code",
   "execution_count": 84,
   "metadata": {
    "id": "85zMEvh7HEn6"
   },
   "outputs": [],
   "source": [
    "# Load the dataset into a Pandas dataframe\n",
    "df = pd.read_csv('dataset.csv')\n",
    "\n",
    "# Make 2 copy of current dataframe for each approach\n",
    "df_cb = df.copy()\n",
    "df_dl = df.copy()\n",
    "# minimize the csv file\n",
    "mini_df = df[(df['article_id'] > 290000000) & (df['article_id'] < 390000000)]"
   ]
  },
  {
   "cell_type": "code",
   "execution_count": 85,
   "metadata": {
    "colab": {
     "base_uri": "https://localhost:8080/"
    },
    "id": "ytnxca5XbE8N",
    "outputId": "58c0e936-aed3-44ce-f3e7-bf7778e8e734"
   },
   "outputs": [
    {
     "data": {
      "text/plain": [
       "article_id                       int64\n",
       "product_code                     int64\n",
       "prod_name                       object\n",
       "product_type_no                  int64\n",
       "product_type_name               object\n",
       "product_group_name              object\n",
       "graphical_appearance_no          int64\n",
       "graphical_appearance_name       object\n",
       "colour_group_code                int64\n",
       "colour_group_name               object\n",
       "perceived_colour_value_id        int64\n",
       "perceived_colour_value_name     object\n",
       "perceived_colour_master_id       int64\n",
       "perceived_colour_master_name    object\n",
       "department_no                    int64\n",
       "department_name                 object\n",
       "index_code                      object\n",
       "index_name                      object\n",
       "index_group_no                   int64\n",
       "index_group_name                object\n",
       "section_no                       int64\n",
       "section_name                    object\n",
       "garment_group_no                 int64\n",
       "garment_group_name              object\n",
       "detail_desc                     object\n",
       "dtype: object"
      ]
     },
     "execution_count": 85,
     "metadata": {},
     "output_type": "execute_result"
    }
   ],
   "source": [
    "# Check for null values\n",
    "df_cb.dtypes"
   ]
  },
  {
   "cell_type": "code",
   "execution_count": 86,
   "metadata": {
    "colab": {
     "base_uri": "https://localhost:8080/"
    },
    "id": "QQ7a1vG3bHH2",
    "outputId": "5a893b3d-305e-43e7-df63-39e7634372c0"
   },
   "outputs": [
    {
     "data": {
      "text/plain": [
       "article_id                       int64\n",
       "product_code                     int64\n",
       "prod_name                       object\n",
       "product_type_no                  int64\n",
       "product_type_name               object\n",
       "product_group_name              object\n",
       "graphical_appearance_no          int64\n",
       "graphical_appearance_name       object\n",
       "colour_group_code                int64\n",
       "colour_group_name               object\n",
       "perceived_colour_value_id        int64\n",
       "perceived_colour_value_name     object\n",
       "perceived_colour_master_id       int64\n",
       "perceived_colour_master_name    object\n",
       "department_no                    int64\n",
       "department_name                 object\n",
       "index_code                      object\n",
       "index_name                      object\n",
       "index_group_no                   int64\n",
       "index_group_name                object\n",
       "section_no                       int64\n",
       "section_name                    object\n",
       "garment_group_no                 int64\n",
       "garment_group_name              object\n",
       "detail_desc                     object\n",
       "dtype: object"
      ]
     },
     "execution_count": 86,
     "metadata": {},
     "output_type": "execute_result"
    }
   ],
   "source": [
    "# Check for dataframe columns type\n",
    "mini_df.dtypes"
   ]
  },
  {
   "cell_type": "code",
   "execution_count": 87,
   "metadata": {},
   "outputs": [
    {
     "data": {
      "text/plain": [
       "(1260, 25)"
      ]
     },
     "execution_count": 87,
     "metadata": {},
     "output_type": "execute_result"
    }
   ],
   "source": [
    "mini_df.shape"
   ]
  },
  {
   "cell_type": "code",
   "execution_count": 88,
   "metadata": {},
   "outputs": [
    {
     "data": {
      "text/html": [
       "<div>\n",
       "<style scoped>\n",
       "    .dataframe tbody tr th:only-of-type {\n",
       "        vertical-align: middle;\n",
       "    }\n",
       "\n",
       "    .dataframe tbody tr th {\n",
       "        vertical-align: top;\n",
       "    }\n",
       "\n",
       "    .dataframe thead th {\n",
       "        text-align: right;\n",
       "    }\n",
       "</style>\n",
       "<table border=\"1\" class=\"dataframe\">\n",
       "  <thead>\n",
       "    <tr style=\"text-align: right;\">\n",
       "      <th></th>\n",
       "      <th>article_id</th>\n",
       "      <th>product_code</th>\n",
       "      <th>product_type_no</th>\n",
       "      <th>graphical_appearance_no</th>\n",
       "      <th>colour_group_code</th>\n",
       "      <th>perceived_colour_value_id</th>\n",
       "      <th>perceived_colour_master_id</th>\n",
       "      <th>department_no</th>\n",
       "      <th>index_group_no</th>\n",
       "      <th>section_no</th>\n",
       "      <th>garment_group_no</th>\n",
       "    </tr>\n",
       "  </thead>\n",
       "  <tbody>\n",
       "    <tr>\n",
       "      <th>count</th>\n",
       "      <td>1.055420e+05</td>\n",
       "      <td>105542.000000</td>\n",
       "      <td>105542.000000</td>\n",
       "      <td>1.055420e+05</td>\n",
       "      <td>105542.000000</td>\n",
       "      <td>105542.000000</td>\n",
       "      <td>105542.000000</td>\n",
       "      <td>105542.000000</td>\n",
       "      <td>105542.000000</td>\n",
       "      <td>105542.000000</td>\n",
       "      <td>105542.000000</td>\n",
       "    </tr>\n",
       "    <tr>\n",
       "      <th>mean</th>\n",
       "      <td>6.984246e+08</td>\n",
       "      <td>698424.563378</td>\n",
       "      <td>234.861875</td>\n",
       "      <td>1.009515e+06</td>\n",
       "      <td>32.233822</td>\n",
       "      <td>3.206183</td>\n",
       "      <td>7.807972</td>\n",
       "      <td>4532.777833</td>\n",
       "      <td>3.171534</td>\n",
       "      <td>42.664219</td>\n",
       "      <td>1010.438290</td>\n",
       "    </tr>\n",
       "    <tr>\n",
       "      <th>std</th>\n",
       "      <td>1.284624e+08</td>\n",
       "      <td>128462.384432</td>\n",
       "      <td>75.049308</td>\n",
       "      <td>2.241359e+04</td>\n",
       "      <td>28.086154</td>\n",
       "      <td>1.563839</td>\n",
       "      <td>5.376727</td>\n",
       "      <td>2712.692011</td>\n",
       "      <td>4.353234</td>\n",
       "      <td>23.260105</td>\n",
       "      <td>6.731023</td>\n",
       "    </tr>\n",
       "    <tr>\n",
       "      <th>min</th>\n",
       "      <td>1.087750e+08</td>\n",
       "      <td>108775.000000</td>\n",
       "      <td>-1.000000</td>\n",
       "      <td>-1.000000e+00</td>\n",
       "      <td>-1.000000</td>\n",
       "      <td>-1.000000</td>\n",
       "      <td>-1.000000</td>\n",
       "      <td>1201.000000</td>\n",
       "      <td>1.000000</td>\n",
       "      <td>2.000000</td>\n",
       "      <td>1001.000000</td>\n",
       "    </tr>\n",
       "    <tr>\n",
       "      <th>25%</th>\n",
       "      <td>6.169925e+08</td>\n",
       "      <td>616992.500000</td>\n",
       "      <td>252.000000</td>\n",
       "      <td>1.010008e+06</td>\n",
       "      <td>9.000000</td>\n",
       "      <td>2.000000</td>\n",
       "      <td>4.000000</td>\n",
       "      <td>1676.000000</td>\n",
       "      <td>1.000000</td>\n",
       "      <td>20.000000</td>\n",
       "      <td>1005.000000</td>\n",
       "    </tr>\n",
       "    <tr>\n",
       "      <th>50%</th>\n",
       "      <td>7.022130e+08</td>\n",
       "      <td>702213.000000</td>\n",
       "      <td>259.000000</td>\n",
       "      <td>1.010016e+06</td>\n",
       "      <td>14.000000</td>\n",
       "      <td>4.000000</td>\n",
       "      <td>5.000000</td>\n",
       "      <td>4222.000000</td>\n",
       "      <td>2.000000</td>\n",
       "      <td>46.000000</td>\n",
       "      <td>1009.000000</td>\n",
       "    </tr>\n",
       "    <tr>\n",
       "      <th>75%</th>\n",
       "      <td>7.967030e+08</td>\n",
       "      <td>796703.000000</td>\n",
       "      <td>272.000000</td>\n",
       "      <td>1.010016e+06</td>\n",
       "      <td>52.000000</td>\n",
       "      <td>4.000000</td>\n",
       "      <td>11.000000</td>\n",
       "      <td>7389.000000</td>\n",
       "      <td>4.000000</td>\n",
       "      <td>61.000000</td>\n",
       "      <td>1017.000000</td>\n",
       "    </tr>\n",
       "    <tr>\n",
       "      <th>max</th>\n",
       "      <td>9.594610e+08</td>\n",
       "      <td>959461.000000</td>\n",
       "      <td>762.000000</td>\n",
       "      <td>1.010029e+06</td>\n",
       "      <td>93.000000</td>\n",
       "      <td>7.000000</td>\n",
       "      <td>20.000000</td>\n",
       "      <td>9989.000000</td>\n",
       "      <td>26.000000</td>\n",
       "      <td>97.000000</td>\n",
       "      <td>1025.000000</td>\n",
       "    </tr>\n",
       "  </tbody>\n",
       "</table>\n",
       "</div>"
      ],
      "text/plain": [
       "         article_id   product_code  product_type_no  graphical_appearance_no  \\\n",
       "count  1.055420e+05  105542.000000    105542.000000             1.055420e+05   \n",
       "mean   6.984246e+08  698424.563378       234.861875             1.009515e+06   \n",
       "std    1.284624e+08  128462.384432        75.049308             2.241359e+04   \n",
       "min    1.087750e+08  108775.000000        -1.000000            -1.000000e+00   \n",
       "25%    6.169925e+08  616992.500000       252.000000             1.010008e+06   \n",
       "50%    7.022130e+08  702213.000000       259.000000             1.010016e+06   \n",
       "75%    7.967030e+08  796703.000000       272.000000             1.010016e+06   \n",
       "max    9.594610e+08  959461.000000       762.000000             1.010029e+06   \n",
       "\n",
       "       colour_group_code  perceived_colour_value_id  \\\n",
       "count      105542.000000              105542.000000   \n",
       "mean           32.233822                   3.206183   \n",
       "std            28.086154                   1.563839   \n",
       "min            -1.000000                  -1.000000   \n",
       "25%             9.000000                   2.000000   \n",
       "50%            14.000000                   4.000000   \n",
       "75%            52.000000                   4.000000   \n",
       "max            93.000000                   7.000000   \n",
       "\n",
       "       perceived_colour_master_id  department_no  index_group_no  \\\n",
       "count               105542.000000  105542.000000   105542.000000   \n",
       "mean                     7.807972    4532.777833        3.171534   \n",
       "std                      5.376727    2712.692011        4.353234   \n",
       "min                     -1.000000    1201.000000        1.000000   \n",
       "25%                      4.000000    1676.000000        1.000000   \n",
       "50%                      5.000000    4222.000000        2.000000   \n",
       "75%                     11.000000    7389.000000        4.000000   \n",
       "max                     20.000000    9989.000000       26.000000   \n",
       "\n",
       "          section_no  garment_group_no  \n",
       "count  105542.000000     105542.000000  \n",
       "mean       42.664219       1010.438290  \n",
       "std        23.260105          6.731023  \n",
       "min         2.000000       1001.000000  \n",
       "25%        20.000000       1005.000000  \n",
       "50%        46.000000       1009.000000  \n",
       "75%        61.000000       1017.000000  \n",
       "max        97.000000       1025.000000  "
      ]
     },
     "execution_count": 88,
     "metadata": {},
     "output_type": "execute_result"
    }
   ],
   "source": [
    "df_cb.describe()"
   ]
  },
  {
   "cell_type": "code",
   "execution_count": 89,
   "metadata": {},
   "outputs": [
    {
     "name": "stdout",
     "output_type": "stream",
     "text": [
      "1260\n"
     ]
    }
   ],
   "source": [
    "print(len(mini_df))"
   ]
  },
  {
   "cell_type": "markdown",
   "metadata": {
    "id": "rd9H3HamGmvp"
   },
   "source": [
    "**Approach 1: Content-based**"
   ]
  },
  {
   "cell_type": "code",
   "execution_count": 90,
   "metadata": {
    "id": "rvZaP_v8ahFX"
   },
   "outputs": [],
   "source": [
    "# Define the ResNet50 model\n"
   ]
  },
  {
   "cell_type": "markdown",
   "metadata": {
    "id": "tYzPhev7GvPv"
   },
   "source": [
    "**Approach 2: Deep Learning**"
   ]
  },
  {
   "cell_type": "code",
   "execution_count": null,
   "metadata": {
    "id": "nocKOcHAHT-W"
   },
   "outputs": [],
   "source": []
  },
  {
   "cell_type": "code",
   "execution_count": 91,
   "metadata": {
    "colab": {
     "base_uri": "https://localhost:8080/",
     "height": 552
    },
    "id": "9YGgfQNLV0ID",
    "outputId": "8f346d40-eb8c-48b0-a258-16ca6b92dfb7"
   },
   "outputs": [
    {
     "data": {
      "text/html": [
       "<div>\n",
       "<style scoped>\n",
       "    .dataframe tbody tr th:only-of-type {\n",
       "        vertical-align: middle;\n",
       "    }\n",
       "\n",
       "    .dataframe tbody tr th {\n",
       "        vertical-align: top;\n",
       "    }\n",
       "\n",
       "    .dataframe thead th {\n",
       "        text-align: right;\n",
       "    }\n",
       "</style>\n",
       "<table border=\"1\" class=\"dataframe\">\n",
       "  <thead>\n",
       "    <tr style=\"text-align: right;\">\n",
       "      <th></th>\n",
       "      <th>article_id</th>\n",
       "      <th>product_code</th>\n",
       "      <th>prod_name</th>\n",
       "      <th>product_type_no</th>\n",
       "      <th>product_type_name</th>\n",
       "      <th>product_group_name</th>\n",
       "      <th>graphical_appearance_no</th>\n",
       "      <th>graphical_appearance_name</th>\n",
       "      <th>colour_group_code</th>\n",
       "      <th>colour_group_name</th>\n",
       "      <th>...</th>\n",
       "      <th>department_name</th>\n",
       "      <th>index_code</th>\n",
       "      <th>index_name</th>\n",
       "      <th>index_group_no</th>\n",
       "      <th>index_group_name</th>\n",
       "      <th>section_no</th>\n",
       "      <th>section_name</th>\n",
       "      <th>garment_group_no</th>\n",
       "      <th>garment_group_name</th>\n",
       "      <th>detail_desc</th>\n",
       "    </tr>\n",
       "  </thead>\n",
       "  <tbody>\n",
       "    <tr>\n",
       "      <th>724</th>\n",
       "      <td>290022001</td>\n",
       "      <td>290022</td>\n",
       "      <td>Boris cap</td>\n",
       "      <td>69</td>\n",
       "      <td>Cap/peaked</td>\n",
       "      <td>Accessories</td>\n",
       "      <td>1010016</td>\n",
       "      <td>Solid</td>\n",
       "      <td>9</td>\n",
       "      <td>Black</td>\n",
       "      <td>...</td>\n",
       "      <td>Men Sport Acc</td>\n",
       "      <td>S</td>\n",
       "      <td>Sport</td>\n",
       "      <td>26</td>\n",
       "      <td>Sport</td>\n",
       "      <td>22</td>\n",
       "      <td>Men H&amp;M Sport</td>\n",
       "      <td>1019</td>\n",
       "      <td>Accessories</td>\n",
       "      <td>Cap in ventilating mesh with an adjustable pla...</td>\n",
       "    </tr>\n",
       "    <tr>\n",
       "      <th>725</th>\n",
       "      <td>290519008</td>\n",
       "      <td>290519</td>\n",
       "      <td>Basic co/fl cardigan</td>\n",
       "      <td>245</td>\n",
       "      <td>Cardigan</td>\n",
       "      <td>Garment Upper body</td>\n",
       "      <td>1010016</td>\n",
       "      <td>Solid</td>\n",
       "      <td>8</td>\n",
       "      <td>Dark Grey</td>\n",
       "      <td>...</td>\n",
       "      <td>Baby basics</td>\n",
       "      <td>G</td>\n",
       "      <td>Baby Sizes 50-98</td>\n",
       "      <td>4</td>\n",
       "      <td>Baby/Children</td>\n",
       "      <td>44</td>\n",
       "      <td>Baby Essentials &amp; Complements</td>\n",
       "      <td>1002</td>\n",
       "      <td>Jersey Basic</td>\n",
       "      <td>Cardigan in soft organic cotton sweatshirt fab...</td>\n",
       "    </tr>\n",
       "    <tr>\n",
       "      <th>726</th>\n",
       "      <td>290519011</td>\n",
       "      <td>290519</td>\n",
       "      <td>Basic co/fl cardigan</td>\n",
       "      <td>245</td>\n",
       "      <td>Cardigan</td>\n",
       "      <td>Garment Upper body</td>\n",
       "      <td>1010016</td>\n",
       "      <td>Solid</td>\n",
       "      <td>82</td>\n",
       "      <td>Turquoise</td>\n",
       "      <td>...</td>\n",
       "      <td>Baby basics</td>\n",
       "      <td>G</td>\n",
       "      <td>Baby Sizes 50-98</td>\n",
       "      <td>4</td>\n",
       "      <td>Baby/Children</td>\n",
       "      <td>44</td>\n",
       "      <td>Baby Essentials &amp; Complements</td>\n",
       "      <td>1002</td>\n",
       "      <td>Jersey Basic</td>\n",
       "      <td>Cardigan in soft organic cotton sweatshirt fab...</td>\n",
       "    </tr>\n",
       "    <tr>\n",
       "      <th>727</th>\n",
       "      <td>290519014</td>\n",
       "      <td>290519</td>\n",
       "      <td>Basic co/fl cardigan</td>\n",
       "      <td>245</td>\n",
       "      <td>Cardigan</td>\n",
       "      <td>Garment Upper body</td>\n",
       "      <td>1010001</td>\n",
       "      <td>All over pattern</td>\n",
       "      <td>73</td>\n",
       "      <td>Dark Blue</td>\n",
       "      <td>...</td>\n",
       "      <td>Baby basics</td>\n",
       "      <td>G</td>\n",
       "      <td>Baby Sizes 50-98</td>\n",
       "      <td>4</td>\n",
       "      <td>Baby/Children</td>\n",
       "      <td>44</td>\n",
       "      <td>Baby Essentials &amp; Complements</td>\n",
       "      <td>1002</td>\n",
       "      <td>Jersey Basic</td>\n",
       "      <td>Cardigan in soft organic cotton sweatshirt fab...</td>\n",
       "    </tr>\n",
       "    <tr>\n",
       "      <th>728</th>\n",
       "      <td>290519017</td>\n",
       "      <td>290519</td>\n",
       "      <td>Basic co/fl cardigan</td>\n",
       "      <td>245</td>\n",
       "      <td>Cardigan</td>\n",
       "      <td>Garment Upper body</td>\n",
       "      <td>1010016</td>\n",
       "      <td>Solid</td>\n",
       "      <td>52</td>\n",
       "      <td>Pink</td>\n",
       "      <td>...</td>\n",
       "      <td>Baby basics</td>\n",
       "      <td>G</td>\n",
       "      <td>Baby Sizes 50-98</td>\n",
       "      <td>4</td>\n",
       "      <td>Baby/Children</td>\n",
       "      <td>44</td>\n",
       "      <td>Baby Essentials &amp; Complements</td>\n",
       "      <td>1002</td>\n",
       "      <td>Jersey Basic</td>\n",
       "      <td>Cardigan in soft organic cotton sweatshirt fab...</td>\n",
       "    </tr>\n",
       "  </tbody>\n",
       "</table>\n",
       "<p>5 rows × 25 columns</p>\n",
       "</div>"
      ],
      "text/plain": [
       "     article_id  product_code             prod_name  product_type_no  \\\n",
       "724   290022001        290022             Boris cap               69   \n",
       "725   290519008        290519  Basic co/fl cardigan              245   \n",
       "726   290519011        290519  Basic co/fl cardigan              245   \n",
       "727   290519014        290519  Basic co/fl cardigan              245   \n",
       "728   290519017        290519  Basic co/fl cardigan              245   \n",
       "\n",
       "    product_type_name  product_group_name  graphical_appearance_no  \\\n",
       "724        Cap/peaked         Accessories                  1010016   \n",
       "725          Cardigan  Garment Upper body                  1010016   \n",
       "726          Cardigan  Garment Upper body                  1010016   \n",
       "727          Cardigan  Garment Upper body                  1010001   \n",
       "728          Cardigan  Garment Upper body                  1010016   \n",
       "\n",
       "    graphical_appearance_name  colour_group_code colour_group_name  ...  \\\n",
       "724                     Solid                  9             Black  ...   \n",
       "725                     Solid                  8         Dark Grey  ...   \n",
       "726                     Solid                 82         Turquoise  ...   \n",
       "727          All over pattern                 73         Dark Blue  ...   \n",
       "728                     Solid                 52              Pink  ...   \n",
       "\n",
       "     department_name index_code        index_name index_group_no  \\\n",
       "724    Men Sport Acc          S             Sport             26   \n",
       "725      Baby basics          G  Baby Sizes 50-98              4   \n",
       "726      Baby basics          G  Baby Sizes 50-98              4   \n",
       "727      Baby basics          G  Baby Sizes 50-98              4   \n",
       "728      Baby basics          G  Baby Sizes 50-98              4   \n",
       "\n",
       "     index_group_name section_no                   section_name  \\\n",
       "724             Sport         22                  Men H&M Sport   \n",
       "725     Baby/Children         44  Baby Essentials & Complements   \n",
       "726     Baby/Children         44  Baby Essentials & Complements   \n",
       "727     Baby/Children         44  Baby Essentials & Complements   \n",
       "728     Baby/Children         44  Baby Essentials & Complements   \n",
       "\n",
       "    garment_group_no  garment_group_name  \\\n",
       "724             1019         Accessories   \n",
       "725             1002        Jersey Basic   \n",
       "726             1002        Jersey Basic   \n",
       "727             1002        Jersey Basic   \n",
       "728             1002        Jersey Basic   \n",
       "\n",
       "                                           detail_desc  \n",
       "724  Cap in ventilating mesh with an adjustable pla...  \n",
       "725  Cardigan in soft organic cotton sweatshirt fab...  \n",
       "726  Cardigan in soft organic cotton sweatshirt fab...  \n",
       "727  Cardigan in soft organic cotton sweatshirt fab...  \n",
       "728  Cardigan in soft organic cotton sweatshirt fab...  \n",
       "\n",
       "[5 rows x 25 columns]"
      ]
     },
     "execution_count": 91,
     "metadata": {},
     "output_type": "execute_result"
    }
   ],
   "source": [
    "mini_df.head()"
   ]
  },
  {
   "cell_type": "code",
   "execution_count": 94,
   "metadata": {},
   "outputs": [
    {
     "ename": "NotFoundError",
     "evalue": "{{function_node __wrapped__ReadFile_device_/job:localhost/replica:0/task:0/device:CPU:0}} NewRandomAccessFile failed to Create/Open: ./images/87750150108775015 : The system cannot find the path specified.\r\n; No such process [Op:ReadFile]",
     "output_type": "error",
     "traceback": [
      "\u001b[1;31m---------------------------------------------------------------------------\u001b[0m",
      "\u001b[1;31mNotFoundError\u001b[0m                             Traceback (most recent call last)",
      "Input \u001b[1;32mIn [94]\u001b[0m, in \u001b[0;36m<cell line: 5>\u001b[1;34m()\u001b[0m\n\u001b[0;32m      5\u001b[0m \u001b[38;5;28;01mfor\u001b[39;00m image_name \u001b[38;5;129;01min\u001b[39;00m image_names:\n\u001b[0;32m      6\u001b[0m     \u001b[38;5;66;03m# Read the image file and decode the image data\u001b[39;00m\n\u001b[0;32m      7\u001b[0m     first_three_chars \u001b[38;5;241m=\u001b[39m image_name[\u001b[38;5;241m3\u001b[39m:]\n\u001b[1;32m----> 8\u001b[0m     image_data \u001b[38;5;241m=\u001b[39m \u001b[43mtf\u001b[49m\u001b[38;5;241;43m.\u001b[39;49m\u001b[43mio\u001b[49m\u001b[38;5;241;43m.\u001b[39;49m\u001b[43mread_file\u001b[49m\u001b[43m(\u001b[49m\u001b[43mimage_path\u001b[49m\u001b[43m \u001b[49m\u001b[38;5;241;43m+\u001b[39;49m\u001b[43m \u001b[49m\u001b[38;5;124;43m'\u001b[39;49m\u001b[38;5;124;43m/\u001b[39;49m\u001b[38;5;124;43m'\u001b[39;49m\u001b[43m \u001b[49m\u001b[38;5;241;43m+\u001b[39;49m\u001b[43m \u001b[49m\u001b[43mfirst_three_chars\u001b[49m\u001b[43m \u001b[49m\u001b[38;5;241;43m+\u001b[39;49m\u001b[43m \u001b[49m\u001b[43mimage_name\u001b[49m\u001b[43m)\u001b[49m\n\u001b[0;32m      9\u001b[0m     image \u001b[38;5;241m=\u001b[39m tf\u001b[38;5;241m.\u001b[39mimage\u001b[38;5;241m.\u001b[39mdecode_image(image_data)\n\u001b[0;32m     11\u001b[0m     \u001b[38;5;66;03m# Add the image tensor to the list\u001b[39;00m\n",
      "File \u001b[1;32m~\\anaconda3\\lib\\site-packages\\tensorflow\\python\\ops\\io_ops.py:133\u001b[0m, in \u001b[0;36mread_file\u001b[1;34m(filename, name)\u001b[0m\n\u001b[0;32m     96\u001b[0m \u001b[38;5;129m@tf_export\u001b[39m(\u001b[38;5;124m\"\u001b[39m\u001b[38;5;124mio.read_file\u001b[39m\u001b[38;5;124m\"\u001b[39m, v1\u001b[38;5;241m=\u001b[39m[\u001b[38;5;124m\"\u001b[39m\u001b[38;5;124mio.read_file\u001b[39m\u001b[38;5;124m\"\u001b[39m, \u001b[38;5;124m\"\u001b[39m\u001b[38;5;124mread_file\u001b[39m\u001b[38;5;124m\"\u001b[39m])\n\u001b[0;32m     97\u001b[0m \u001b[38;5;28;01mdef\u001b[39;00m \u001b[38;5;21mread_file\u001b[39m(filename, name\u001b[38;5;241m=\u001b[39m\u001b[38;5;28;01mNone\u001b[39;00m):\n\u001b[0;32m     98\u001b[0m   \u001b[38;5;124;03m\"\"\"Reads the contents of file.\u001b[39;00m\n\u001b[0;32m     99\u001b[0m \n\u001b[0;32m    100\u001b[0m \u001b[38;5;124;03m  This operation returns a tensor with the entire contents of the input\u001b[39;00m\n\u001b[1;32m   (...)\u001b[0m\n\u001b[0;32m    131\u001b[0m \u001b[38;5;124;03m    A tensor of dtype \"string\", with the file contents.\u001b[39;00m\n\u001b[0;32m    132\u001b[0m \u001b[38;5;124;03m  \"\"\"\u001b[39;00m\n\u001b[1;32m--> 133\u001b[0m   \u001b[38;5;28;01mreturn\u001b[39;00m \u001b[43mgen_io_ops\u001b[49m\u001b[38;5;241;43m.\u001b[39;49m\u001b[43mread_file\u001b[49m\u001b[43m(\u001b[49m\u001b[43mfilename\u001b[49m\u001b[43m,\u001b[49m\u001b[43m \u001b[49m\u001b[43mname\u001b[49m\u001b[43m)\u001b[49m\n",
      "File \u001b[1;32m~\\anaconda3\\lib\\site-packages\\tensorflow\\python\\ops\\gen_io_ops.py:610\u001b[0m, in \u001b[0;36mread_file\u001b[1;34m(filename, name)\u001b[0m\n\u001b[0;32m    608\u001b[0m   \u001b[38;5;28;01mpass\u001b[39;00m\n\u001b[0;32m    609\u001b[0m \u001b[38;5;28;01mtry\u001b[39;00m:\n\u001b[1;32m--> 610\u001b[0m   \u001b[38;5;28;01mreturn\u001b[39;00m \u001b[43mread_file_eager_fallback\u001b[49m\u001b[43m(\u001b[49m\n\u001b[0;32m    611\u001b[0m \u001b[43m      \u001b[49m\u001b[43mfilename\u001b[49m\u001b[43m,\u001b[49m\u001b[43m \u001b[49m\u001b[43mname\u001b[49m\u001b[38;5;241;43m=\u001b[39;49m\u001b[43mname\u001b[49m\u001b[43m,\u001b[49m\u001b[43m \u001b[49m\u001b[43mctx\u001b[49m\u001b[38;5;241;43m=\u001b[39;49m\u001b[43m_ctx\u001b[49m\u001b[43m)\u001b[49m\n\u001b[0;32m    612\u001b[0m \u001b[38;5;28;01mexcept\u001b[39;00m _core\u001b[38;5;241m.\u001b[39m_SymbolicException:\n\u001b[0;32m    613\u001b[0m   \u001b[38;5;28;01mpass\u001b[39;00m  \u001b[38;5;66;03m# Add nodes to the TensorFlow graph.\u001b[39;00m\n",
      "File \u001b[1;32m~\\anaconda3\\lib\\site-packages\\tensorflow\\python\\ops\\gen_io_ops.py:633\u001b[0m, in \u001b[0;36mread_file_eager_fallback\u001b[1;34m(filename, name, ctx)\u001b[0m\n\u001b[0;32m    631\u001b[0m _inputs_flat \u001b[38;5;241m=\u001b[39m [filename]\n\u001b[0;32m    632\u001b[0m _attrs \u001b[38;5;241m=\u001b[39m \u001b[38;5;28;01mNone\u001b[39;00m\n\u001b[1;32m--> 633\u001b[0m _result \u001b[38;5;241m=\u001b[39m \u001b[43m_execute\u001b[49m\u001b[38;5;241;43m.\u001b[39;49m\u001b[43mexecute\u001b[49m\u001b[43m(\u001b[49m\u001b[38;5;124;43mb\u001b[39;49m\u001b[38;5;124;43m\"\u001b[39;49m\u001b[38;5;124;43mReadFile\u001b[39;49m\u001b[38;5;124;43m\"\u001b[39;49m\u001b[43m,\u001b[49m\u001b[43m \u001b[49m\u001b[38;5;241;43m1\u001b[39;49m\u001b[43m,\u001b[49m\u001b[43m \u001b[49m\u001b[43minputs\u001b[49m\u001b[38;5;241;43m=\u001b[39;49m\u001b[43m_inputs_flat\u001b[49m\u001b[43m,\u001b[49m\n\u001b[0;32m    634\u001b[0m \u001b[43m                           \u001b[49m\u001b[43mattrs\u001b[49m\u001b[38;5;241;43m=\u001b[39;49m\u001b[43m_attrs\u001b[49m\u001b[43m,\u001b[49m\u001b[43m \u001b[49m\u001b[43mctx\u001b[49m\u001b[38;5;241;43m=\u001b[39;49m\u001b[43mctx\u001b[49m\u001b[43m,\u001b[49m\u001b[43m \u001b[49m\u001b[43mname\u001b[49m\u001b[38;5;241;43m=\u001b[39;49m\u001b[43mname\u001b[49m\u001b[43m)\u001b[49m\n\u001b[0;32m    635\u001b[0m \u001b[38;5;28;01mif\u001b[39;00m _execute\u001b[38;5;241m.\u001b[39mmust_record_gradient():\n\u001b[0;32m    636\u001b[0m   _execute\u001b[38;5;241m.\u001b[39mrecord_gradient(\n\u001b[0;32m    637\u001b[0m       \u001b[38;5;124m\"\u001b[39m\u001b[38;5;124mReadFile\u001b[39m\u001b[38;5;124m\"\u001b[39m, _inputs_flat, _attrs, _result)\n",
      "File \u001b[1;32m~\\anaconda3\\lib\\site-packages\\tensorflow\\python\\eager\\execute.py:52\u001b[0m, in \u001b[0;36mquick_execute\u001b[1;34m(op_name, num_outputs, inputs, attrs, ctx, name)\u001b[0m\n\u001b[0;32m     50\u001b[0m \u001b[38;5;28;01mtry\u001b[39;00m:\n\u001b[0;32m     51\u001b[0m   ctx\u001b[38;5;241m.\u001b[39mensure_initialized()\n\u001b[1;32m---> 52\u001b[0m   tensors \u001b[38;5;241m=\u001b[39m \u001b[43mpywrap_tfe\u001b[49m\u001b[38;5;241;43m.\u001b[39;49m\u001b[43mTFE_Py_Execute\u001b[49m\u001b[43m(\u001b[49m\u001b[43mctx\u001b[49m\u001b[38;5;241;43m.\u001b[39;49m\u001b[43m_handle\u001b[49m\u001b[43m,\u001b[49m\u001b[43m \u001b[49m\u001b[43mdevice_name\u001b[49m\u001b[43m,\u001b[49m\u001b[43m \u001b[49m\u001b[43mop_name\u001b[49m\u001b[43m,\u001b[49m\n\u001b[0;32m     53\u001b[0m \u001b[43m                                      \u001b[49m\u001b[43minputs\u001b[49m\u001b[43m,\u001b[49m\u001b[43m \u001b[49m\u001b[43mattrs\u001b[49m\u001b[43m,\u001b[49m\u001b[43m \u001b[49m\u001b[43mnum_outputs\u001b[49m\u001b[43m)\u001b[49m\n\u001b[0;32m     54\u001b[0m \u001b[38;5;28;01mexcept\u001b[39;00m core\u001b[38;5;241m.\u001b[39m_NotOkStatusException \u001b[38;5;28;01mas\u001b[39;00m e:\n\u001b[0;32m     55\u001b[0m   \u001b[38;5;28;01mif\u001b[39;00m name \u001b[38;5;129;01mis\u001b[39;00m \u001b[38;5;129;01mnot\u001b[39;00m \u001b[38;5;28;01mNone\u001b[39;00m:\n",
      "\u001b[1;31mNotFoundError\u001b[0m: {{function_node __wrapped__ReadFile_device_/job:localhost/replica:0/task:0/device:CPU:0}} NewRandomAccessFile failed to Create/Open: ./images/87750150108775015 : The system cannot find the path specified.\r\n; No such process [Op:ReadFile]"
     ]
    }
   ],
   "source": [
    "# get all images\n",
    "image_path = './images' \n",
    "image_names = df['article_id'].apply(lambda x: \"0\" + str(x))\n",
    "images = []\n",
    "for image_name in image_names:\n",
    "    # Read the image file and decode the image data\n",
    "    first_three_chars = image_name[3:]\n",
    "    image_data = tf.io.read_file(image_path + '/' + first_three_chars + image_name)\n",
    "    image = tf.image.decode_image(image_data)\n",
    "    \n",
    "    # Add the image tensor to the list\n",
    "    images.append(image)\n",
    "print(images)"
   ]
  },
  {
   "cell_type": "code",
   "execution_count": null,
   "metadata": {},
   "outputs": [],
   "source": []
  },
  {
   "cell_type": "code",
   "execution_count": null,
   "metadata": {},
   "outputs": [],
   "source": []
  }
 ],
 "metadata": {
  "colab": {
   "provenance": []
  },
  "gpuClass": "standard",
  "kernelspec": {
   "display_name": "Python 3 (ipykernel)",
   "language": "python",
   "name": "python3"
  },
  "language_info": {
   "codemirror_mode": {
    "name": "ipython",
    "version": 3
   },
   "file_extension": ".py",
   "mimetype": "text/x-python",
   "name": "python",
   "nbconvert_exporter": "python",
   "pygments_lexer": "ipython3",
   "version": "3.9.12"
  }
 },
 "nbformat": 4,
 "nbformat_minor": 1
}
